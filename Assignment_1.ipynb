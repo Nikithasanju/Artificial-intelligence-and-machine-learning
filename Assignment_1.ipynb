{
  "cells": [
    {
      "cell_type": "markdown",
      "metadata": {
        "id": "view-in-github",
        "colab_type": "text"
      },
      "source": [
        "<a href=\"https://colab.research.google.com/github/Nikithasanju/Artificial-intelligence-and-machine-learning/blob/main/Assignment_1.ipynb\" target=\"_parent\"><img src=\"https://colab.research.google.com/assets/colab-badge.svg\" alt=\"Open In Colab\"/></a>"
      ]
    },
    {
      "cell_type": "code",
      "execution_count": null,
      "metadata": {
        "id": "uKZ7-dnu0e9f"
      },
      "outputs": [],
      "source": [
        "#Task 1 Create the two lists and join these two lists"
      ]
    },
    {
      "cell_type": "code",
      "execution_count": null,
      "metadata": {
        "colab": {
          "base_uri": "https://localhost:8080/"
        },
        "id": "cv8tuKlv1UO3",
        "outputId": "7e1f34d3-d107-43ee-aea8-e69a9f5d79ac"
      },
      "outputs": [
        {
          "name": "stdout",
          "output_type": "stream",
          "text": [
            "[1, 2, 3, 4, 5, 6]\n"
          ]
        }
      ],
      "source": [
        "\n",
        "\n",
        "\n",
        "list1=[1,2,3]\n",
        "list2=[4,5,6]\n",
        "list3=list1+list2\n",
        "print(list3)"
      ]
    },
    {
      "cell_type": "code",
      "execution_count": null,
      "metadata": {
        "id": "ju3Pu55O4yOK"
      },
      "outputs": [],
      "source": []
    },
    {
      "cell_type": "code",
      "execution_count": null,
      "metadata": {
        "colab": {
          "background_save": true
        },
        "id": "LBtxuMqL2nt6"
      },
      "outputs": [],
      "source": [
        "#Task 2 with if statement find the even number"
      ]
    },
    {
      "cell_type": "code",
      "execution_count": null,
      "metadata": {
        "colab": {
          "background_save": true
        },
        "id": "l7v0wYzhsZJN",
        "outputId": "9ea617e5-afb7-47cf-e637-b0b572fb6044"
      },
      "outputs": [
        {
          "name": "stdout",
          "output_type": "stream",
          "text": [
            "even number\n"
          ]
        }
      ],
      "source": [
        "num = int(input(\"enter a number\"))\n",
        "if(num%2==0):\n",
        "  print(\"even number\")\n",
        "else:\n",
        "  print(\"odd number\")"
      ]
    },
    {
      "cell_type": "code",
      "execution_count": null,
      "metadata": {
        "id": "v4oO8-sQ5-h7"
      },
      "outputs": [],
      "source": [
        "#Task 3 Create a dictionary with 3 keys and 2 values for each"
      ]
    },
    {
      "cell_type": "code",
      "execution_count": null,
      "metadata": {
        "colab": {
          "base_uri": "https://localhost:8080/"
        },
        "id": "YG8aFfuF6aAZ",
        "outputId": "4e696924-e5c0-468e-90a4-db0cac687be6"
      },
      "outputs": [
        {
          "data": {
            "text/plain": [
              "[6, 8]"
            ]
          },
          "execution_count": 10,
          "metadata": {},
          "output_type": "execute_result"
        }
      ],
      "source": [
        "\n",
        "\n",
        "data={1:[1,2],2:[3,4],3:[6,8]}\n",
        "data[3]"
      ]
    },
    {
      "cell_type": "markdown",
      "metadata": {
        "id": "DR0S95lC1M5j"
      },
      "source": [
        "\n"
      ]
    },
    {
      "cell_type": "markdown",
      "metadata": {
        "id": "wzXcNa5v7BVl"
      },
      "source": []
    },
    {
      "cell_type": "code",
      "execution_count": null,
      "metadata": {
        "id": "AUBeaeFG6132"
      },
      "outputs": [],
      "source": [
        "#Task 4 Create a function with if statements which is used to find odd numbers"
      ]
    },
    {
      "cell_type": "code",
      "execution_count": null,
      "metadata": {
        "colab": {
          "base_uri": "https://localhost:8080/"
        },
        "id": "_rNEjnPh7PmK",
        "outputId": "1fa4c487-d562-4239-e5bd-ccae5e2c3960"
      },
      "outputs": [
        {
          "name": "stdout",
          "output_type": "stream",
          "text": [
            "enter any number:29\n",
            "It is an odd number\n"
          ]
        }
      ],
      "source": [
        "\n",
        "\n",
        "\n",
        "num = int(input(\"enter any number:\"))\n",
        "if(num%2)==0:\n",
        " print(\"It is not an odd number\")\n",
        "else:\n",
        " print(\"It is an odd number\")"
      ]
    },
    {
      "cell_type": "code",
      "execution_count": null,
      "metadata": {
        "id": "HXP_t8-19qU4"
      },
      "outputs": [],
      "source": [
        "#Task 5 write a python function to sum all the numbers in a list"
      ]
    },
    {
      "cell_type": "code",
      "execution_count": null,
      "metadata": {
        "colab": {
          "base_uri": "https://localhost:8080/"
        },
        "id": "9nLw-PU2-K_Z",
        "outputId": "5222dc58-55d8-440d-b63f-30bd263ba522"
      },
      "outputs": [
        {
          "data": {
            "text/plain": [
              "20"
            ]
          },
          "execution_count": 20,
          "metadata": {},
          "output_type": "execute_result"
        }
      ],
      "source": [
        "\n",
        "data=[8,2,3,0,7]\n",
        "sum(data)"
      ]
    }
  ],
  "metadata": {
    "colab": {
      "provenance": [],
      "authorship_tag": "ABX9TyM+RUpaW2oig5CxWaf7Q3r3",
      "include_colab_link": true
    },
    "kernelspec": {
      "display_name": "Python 3",
      "name": "python3"
    },
    "language_info": {
      "name": "python"
    }
  },
  "nbformat": 4,
  "nbformat_minor": 0
}